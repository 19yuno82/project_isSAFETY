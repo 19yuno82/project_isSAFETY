{
 "cells": [
  {
   "cell_type": "code",
   "execution_count": null,
   "id": "bc77261d",
   "metadata": {},
   "outputs": [],
   "source": [
    "import numpy as np\n",
    "import pandas as pd"
   ]
  },
  {
   "cell_type": "code",
   "execution_count": null,
   "id": "1921698b",
   "metadata": {},
   "outputs": [],
   "source": [
    "#범죄 데이터\n",
    "crime = pd.read_csv('./data/seoul_five_crime.csv')\n",
    "df = crime.copy()"
   ]
  },
  {
   "cell_type": "code",
   "execution_count": null,
   "id": "faf2af5d",
   "metadata": {},
   "outputs": [],
   "source": [
    "def multi_columns(df) :\n",
    "    df=df.rename(columns=df.iloc[0])\n",
    "    df=df.drop(df.index[0])\n",
    "    df = df.set_index('행정구별',drop=True)\n",
    "    df=pd.DataFrame(data= df.values,index=df.index,columns=[['소계','소계','살인','살인','강도','강도','강간·강제추행','강간·강제추행','절도','절도','폭력','폭력'],\n",
    "                      df.columns])\n",
    "    return df"
   ]
  },
  {
   "cell_type": "code",
   "execution_count": null,
   "id": "b6c27e1e",
   "metadata": {},
   "outputs": [],
   "source": [
    "import seaborn as sns\n",
    "import matplotlib.pyplot as plt\n",
    "from matplotlib import rcParams"
   ]
  },
  {
   "cell_type": "code",
   "execution_count": null,
   "id": "6b8b682e",
   "metadata": {},
   "outputs": [],
   "source": [
    "def setting_styles_basic() :\n",
    "    rcParams['font.family'] = 'malgun Gothic'\n",
    "    rcParams['axes.unicode_minus'] = False"
   ]
  },
  {
   "cell_type": "code",
   "execution_count": null,
   "id": "dc363246",
   "metadata": {},
   "outputs": [],
   "source": [
    "test.head()\n",
    "display(test.columns)\n",
    "display(test.index)"
   ]
  },
  {
   "cell_type": "code",
   "execution_count": null,
   "id": "325a4562",
   "metadata": {},
   "outputs": [],
   "source": [
    "t1 = test.copy()\n",
    "t1"
   ]
  },
  {
   "cell_type": "code",
   "execution_count": null,
   "id": "a972865d",
   "metadata": {},
   "outputs": [],
   "source": [
    "t1=t1.drop('소계')"
   ]
  },
  {
   "cell_type": "code",
   "execution_count": null,
   "id": "16410a37",
   "metadata": {},
   "outputs": [],
   "source": [
    "del t1['소계']"
   ]
  },
  {
   "cell_type": "code",
   "execution_count": null,
   "id": "9ac725b0",
   "metadata": {},
   "outputs": [],
   "source": [
    "t1"
   ]
  },
  {
   "cell_type": "code",
   "execution_count": null,
   "id": "cc0b2223",
   "metadata": {},
   "outputs": [],
   "source": []
  },
  {
   "cell_type": "code",
   "execution_count": null,
   "id": "f0d11ea9",
   "metadata": {},
   "outputs": [],
   "source": [
    "i = t1.index\n",
    "i.size"
   ]
  },
  {
   "cell_type": "code",
   "execution_count": null,
   "id": "dd2a89e5",
   "metadata": {},
   "outputs": [],
   "source": [
    "setting_styles_basic()"
   ]
  },
  {
   "cell_type": "code",
   "execution_count": null,
   "id": "ee78fd8e",
   "metadata": {},
   "outputs": [],
   "source": []
  },
  {
   "cell_type": "code",
   "execution_count": null,
   "id": "ccf77ced",
   "metadata": {},
   "outputs": [],
   "source": [
    "t2=test.copy()"
   ]
  },
  {
   "cell_type": "code",
   "execution_count": null,
   "id": "cb81d3ae",
   "metadata": {},
   "outputs": [],
   "source": [
    "t2.head()"
   ]
  },
  {
   "cell_type": "code",
   "execution_count": null,
   "id": "199904ed",
   "metadata": {},
   "outputs": [],
   "source": [
    "t2.columns[0]"
   ]
  },
  {
   "cell_type": "code",
   "execution_count": null,
   "id": "6e41520d",
   "metadata": {},
   "outputs": [],
   "source": [
    "s_list=[]\n",
    "for i in range(t2.columns.size) :\n",
    "    if i%2 == 0 :\n",
    "        s_list.append(t2.loc['소계'][t2.columns[i]])\n",
    "aa=s_list\n",
    "aa[0]"
   ]
  },
  {
   "cell_type": "code",
   "execution_count": null,
   "id": "8c21de70",
   "metadata": {},
   "outputs": [],
   "source": [
    "def r_change(s_list) :\n",
    "    r_list=[]\n",
    "    for i in range(1,len(s_list)) :\n",
    "        j = int(s_list[i])/int(s_list[0])*100\n",
    "        r_list.append(round(j,1))\n",
    "    return r_list"
   ]
  },
  {
   "cell_type": "code",
   "execution_count": null,
   "id": "716224a9",
   "metadata": {},
   "outputs": [],
   "source": []
  },
  {
   "cell_type": "code",
   "execution_count": null,
   "id": "d7a54d3d",
   "metadata": {},
   "outputs": [],
   "source": [
    "ratio=r_change(s_list)\n",
    "labels=[]\n",
    "for i in range(2,t2.columns.size) :\n",
    "    labels.append(t2.columns[i][0])\n",
    "labels=list(dict.fromkeys(labels))\n",
    "display(labels)\n",
    "explode = [0.1,0.1,0.1,0.1,0.1]\n",
    "\n",
    "plt.pie(ratio,labels=labels, autopct='%.1f%%',explode=explode)\n",
    "plt.show()"
   ]
  },
  {
   "cell_type": "code",
   "execution_count": null,
   "id": "70ddc6a4",
   "metadata": {},
   "outputs": [],
   "source": [
    "import numpy as np\n",
    "import pandas as pd\n",
    "import seaborn as sns\n",
    "import matplotlib.pyplot as plt\n",
    "from matplotlib import rcParams"
   ]
  },
  {
   "cell_type": "code",
   "execution_count": null,
   "id": "90a0edbe",
   "metadata": {},
   "outputs": [],
   "source": [
    "#자치단체코드 분류표\n",
    "gu_code=pd.read_csv('./data/[붙임1] 지방행정인허가데이터개방_자치단체코드목록 - Sheet1.csv')\n",
    "gu_code=gu_code[['시군구명','시군구(자치단체)코드']]\n",
    "gu_code=gu_code[['시군구(자치단체)코드','시군구명']]\n",
    "gu_code=gu_code.sort_values('시군구명',ignore_index=True)"
   ]
  },
  {
   "cell_type": "code",
   "execution_count": null,
   "id": "6c8fb954",
   "metadata": {},
   "outputs": [],
   "source": [
    "#개방자치단체코드 -> 행정구 명칭으로\n",
    "def gu_name(df) :\n",
    "    for i in df.index :\n",
    "        for j in gu_code.index :\n",
    "            if df['개방자치단체코드'][i] == gu_code['시군구(자치단체)코드'][j] :\n",
    "                df['개방자치단체코드'][i] = gu_code['시군구명'][j]\n",
    "    df['개방자치단체코드']"
   ]
  },
  {
   "cell_type": "code",
   "execution_count": null,
   "id": "cc33a0bc",
   "metadata": {},
   "outputs": [],
   "source": [
    "#법정동-> 행정동 변환\n",
    "dong=pd.read_csv('./data/행정동분류.csv')\n",
    "dong_set=dong[dong['구분코드'] != 1]\n",
    "dong_set"
   ]
  },
  {
   "cell_type": "code",
   "execution_count": null,
   "id": "33324d37",
   "metadata": {},
   "outputs": [],
   "source": [
    "#유흥주점 데이터\n",
    "uh_data=pd.read_csv('./data/seoul_uheongsiseol.csv')\n",
    "#단란주점 데이터\n",
    "dl_data=pd.read_csv('./data/seoul_dallan.csv')"
   ]
  },
  {
   "cell_type": "code",
   "execution_count": null,
   "id": "228d3c1a",
   "metadata": {},
   "outputs": [],
   "source": [
    "#유흥주점 데이터 전처리\n",
    "uh_data=uh_data[uh_data['영업상태코드'] == 1]\n",
    "uh_data=uh_data[['개방자치단체코드', '관리번호','사업장명', '업태구분명','영업상태코드', '영업상태명','소재지우편번호','지번주소', '도로명주소', '도로명우편번호','X', 'Y']]\n",
    "uh_data"
   ]
  },
  {
   "cell_type": "code",
   "execution_count": null,
   "id": "c6af4d67",
   "metadata": {},
   "outputs": [],
   "source": [
    "dl_data=dl_data[['개방자치단체코드', '관리번호','사업장명', '업태구분명','영업상태구분코드', '영업상태명',\n",
    "       '소재지우편번호', '소재지전체주소', '도로명전체주소', '도로명우편번호', '좌표정보(X)',\n",
    "       '좌표정보(Y)']]\n",
    "dl_data.columns=['개방자치단체코드', '관리번호','사업장명', '업태구분명','영업상태코드', '영업상태명','소재지우편번호','지번주소', '도로명주소', '도로명우편번호','X', 'Y']"
   ]
  },
  {
   "cell_type": "code",
   "execution_count": null,
   "id": "f97bd529",
   "metadata": {},
   "outputs": [],
   "source": [
    "#유흥/단란 데이터 통합\n",
    "seoul_uh_data=pd.concat([uh_data,dl_data], axis=0,ignore_index=True)\n",
    "#행정구코드를 구 이름으로 변경\n",
    "gu_name(seoul_uh_data)\n",
    "#통합데이터\n",
    "seoul_uh_data.rename(columns={'개방자치단체코드':'행정구'},inplace=True)\n",
    "seoul_uh_data=seoul_uh_data.sort_values('행정구',ignore_index=True)\n",
    "seoul_uh_data=seoul_uh_data[['행정구','사업장명','업태구분명','지번주소','도로명주소','X','Y']]"
   ]
  },
  {
   "cell_type": "code",
   "execution_count": null,
   "id": "4be44369",
   "metadata": {},
   "outputs": [],
   "source": [
    "seoul_uh_data.to_csv('soeul_uh_data.csv')"
   ]
  },
  {
   "cell_type": "code",
   "execution_count": null,
   "id": "0a7a618b",
   "metadata": {},
   "outputs": [],
   "source": [
    "seoul_cctv_UTMK=pd.read_csv('./seoul_cctv_UTMK.csv')"
   ]
  },
  {
   "cell_type": "code",
   "execution_count": null,
   "id": "d0069dbf",
   "metadata": {},
   "outputs": [],
   "source": [
    "seoul_cctv_UTMK=seoul_cctv_UTMK[['x', 'y']]\n",
    "seoul_cctv_UTMK.to_csv('seoul_cctv_UTMK.csv',index=False)"
   ]
  },
  {
   "cell_type": "code",
   "execution_count": null,
   "id": "758e3e5b",
   "metadata": {
    "scrolled": true
   },
   "outputs": [],
   "source": [
    "seoul_policeOffice_UTMK=pd.read_csv('./seoul_policeOffice_UTMK.csv')\n",
    "seoul_policeOffice_UTMK.columns"
   ]
  },
  {
   "cell_type": "code",
   "execution_count": null,
   "id": "30233c47",
   "metadata": {},
   "outputs": [],
   "source": [
    "seoul_policeOffice_UTMK=seoul_policeOffice_UTMK[['x', 'y']]"
   ]
  },
  {
   "cell_type": "code",
   "execution_count": null,
   "id": "9da87400",
   "metadata": {},
   "outputs": [],
   "source": [
    "seoul_policeOffice_UTMK.to_csv('seoul_policeOfiice_UTMK.csv',index=False)"
   ]
  },
  {
   "cell_type": "code",
   "execution_count": null,
   "id": "cc25bfc7",
   "metadata": {},
   "outputs": [],
   "source": [
    "cctv_utmk=pd.read_csv('./seoul_cctv_UTMK.csv')\n",
    "cctv_utmk.info()"
   ]
  },
  {
   "cell_type": "code",
   "execution_count": null,
   "id": "f5ddf4a6",
   "metadata": {},
   "outputs": [],
   "source": [
    "cctv_utmk=cctv_utmk.drop_duplicates()\n",
    "cctv_utmk.info()"
   ]
  },
  {
   "cell_type": "code",
   "execution_count": null,
   "id": "1622fed9",
   "metadata": {},
   "outputs": [],
   "source": [
    "cctv_utmk.to_csv('cctv_UTMK.csv',index=False)"
   ]
  },
  {
   "cell_type": "code",
   "execution_count": null,
   "id": "651665d7",
   "metadata": {},
   "outputs": [],
   "source": [
    "import numpy as np\n",
    "import pandas as pd"
   ]
  },
  {
   "cell_type": "code",
   "execution_count": null,
   "id": "5100566e",
   "metadata": {},
   "outputs": [],
   "source": [
    "cctv=pd.read_csv('./seoul_cctv.csv',encoding='CP949')\n",
    "\n",
    "gu_list=cctv['자치구'].drop_duplicates()\n",
    "gu_list=gu_list.reset_index(drop=True)\n",
    "\n",
    "cctv_example=pd.DataFrame()\n",
    "for i in range(len(gu_list)):\n",
    "    mask=cctv['자치구']==gu_list[i]\n",
    "    cctv_example=pd.concat([cctv_example,cctv[mask].reset_index(drop=True)[0:100]])\n",
    "cctv_example"
   ]
  },
  {
   "cell_type": "code",
   "execution_count": null,
   "id": "75fb3d22",
   "metadata": {},
   "outputs": [],
   "source": []
  },
  {
   "cell_type": "code",
   "execution_count": null,
   "id": "07b3c344",
   "metadata": {},
   "outputs": [],
   "source": []
  },
  {
   "cell_type": "code",
   "execution_count": null,
   "id": "69e1e8e9",
   "metadata": {},
   "outputs": [],
   "source": [
    "mask=cctv['자치구']==gu_list[5]\n",
    "cctv[mask].reset_index(drop=True)[0:100]"
   ]
  },
  {
   "cell_type": "code",
   "execution_count": null,
   "id": "7e524894",
   "metadata": {},
   "outputs": [],
   "source": []
  },
  {
   "cell_type": "code",
   "execution_count": null,
   "id": "e7ce293b",
   "metadata": {},
   "outputs": [],
   "source": []
  },
  {
   "cell_type": "code",
   "execution_count": null,
   "id": "441d1664",
   "metadata": {},
   "outputs": [],
   "source": []
  },
  {
   "cell_type": "code",
   "execution_count": null,
   "id": "9e6f2d75",
   "metadata": {},
   "outputs": [],
   "source": []
  },
  {
   "cell_type": "code",
   "execution_count": null,
   "id": "cc42c503",
   "metadata": {},
   "outputs": [],
   "source": []
  },
  {
   "cell_type": "code",
   "execution_count": null,
   "id": "8bbaa0f4",
   "metadata": {},
   "outputs": [],
   "source": []
  },
  {
   "cell_type": "code",
   "execution_count": null,
   "id": "3d2373e7",
   "metadata": {},
   "outputs": [],
   "source": []
  },
  {
   "cell_type": "code",
   "execution_count": null,
   "id": "8f03c611",
   "metadata": {},
   "outputs": [],
   "source": []
  },
  {
   "cell_type": "code",
   "execution_count": null,
   "id": "2ea7b0a6",
   "metadata": {},
   "outputs": [],
   "source": []
  },
  {
   "cell_type": "code",
   "execution_count": null,
   "id": "98d6ea4e",
   "metadata": {},
   "outputs": [],
   "source": []
  }
 ],
 "metadata": {
  "kernelspec": {
   "display_name": "Python 3 (ipykernel)",
   "language": "python",
   "name": "python3"
  },
  "language_info": {
   "codemirror_mode": {
    "name": "ipython",
    "version": 3
   },
   "file_extension": ".py",
   "mimetype": "text/x-python",
   "name": "python",
   "nbconvert_exporter": "python",
   "pygments_lexer": "ipython3",
   "version": "3.11.4"
  }
 },
 "nbformat": 4,
 "nbformat_minor": 5
}
