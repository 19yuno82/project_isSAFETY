{
 "cells": [
  {
   "cell_type": "code",
   "execution_count": 30,
   "id": "ec62d8bc",
   "metadata": {
    "collapsed": true
   },
   "outputs": [
    {
     "name": "stdout",
     "output_type": "stream",
     "text": [
      "Requirement already satisfied: pyproj in c:\\users\\smhrd\\anaconda3\\lib\\site-packages (3.6.1)\n",
      "Requirement already satisfied: certifi in c:\\users\\smhrd\\anaconda3\\lib\\site-packages (from pyproj) (2023.7.22)\n",
      "Note: you may need to restart the kernel to use updated packages.\n"
     ]
    }
   ],
   "source": [
    "pip install pyproj"
   ]
  },
  {
   "cell_type": "code",
   "execution_count": 31,
   "id": "5d7332f4",
   "metadata": {
    "collapsed": true
   },
   "outputs": [
    {
     "name": "stdout",
     "output_type": "stream",
     "text": [
      "Requirement already satisfied: geopandas in c:\\users\\smhrd\\anaconda3\\lib\\site-packages (0.14.1)\n",
      "Requirement already satisfied: fiona>=1.8.21 in c:\\users\\smhrd\\anaconda3\\lib\\site-packages (from geopandas) (1.9.5)\n",
      "Requirement already satisfied: packaging in c:\\users\\smhrd\\anaconda3\\lib\\site-packages (from geopandas) (23.0)\n",
      "Requirement already satisfied: pandas>=1.4.0 in c:\\users\\smhrd\\anaconda3\\lib\\site-packages (from geopandas) (1.5.3)\n",
      "Requirement already satisfied: pyproj>=3.3.0 in c:\\users\\smhrd\\anaconda3\\lib\\site-packages (from geopandas) (3.6.1)\n",
      "Requirement already satisfied: shapely>=1.8.0 in c:\\users\\smhrd\\anaconda3\\lib\\site-packages (from geopandas) (2.0.2)\n",
      "Requirement already satisfied: attrs>=19.2.0 in c:\\users\\smhrd\\anaconda3\\lib\\site-packages (from fiona>=1.8.21->geopandas) (22.1.0)\n",
      "Requirement already satisfied: certifi in c:\\users\\smhrd\\anaconda3\\lib\\site-packages (from fiona>=1.8.21->geopandas) (2023.7.22)\n",
      "Requirement already satisfied: click~=8.0 in c:\\users\\smhrd\\anaconda3\\lib\\site-packages (from fiona>=1.8.21->geopandas) (8.0.4)\n",
      "Requirement already satisfied: click-plugins>=1.0 in c:\\users\\smhrd\\anaconda3\\lib\\site-packages (from fiona>=1.8.21->geopandas) (1.1.1)\n",
      "Requirement already satisfied: cligj>=0.5 in c:\\users\\smhrd\\anaconda3\\lib\\site-packages (from fiona>=1.8.21->geopandas) (0.7.2)\n",
      "Requirement already satisfied: six in c:\\users\\smhrd\\anaconda3\\lib\\site-packages (from fiona>=1.8.21->geopandas) (1.16.0)\n",
      "Requirement already satisfied: setuptools in c:\\users\\smhrd\\anaconda3\\lib\\site-packages (from fiona>=1.8.21->geopandas) (68.0.0)\n",
      "Requirement already satisfied: python-dateutil>=2.8.1 in c:\\users\\smhrd\\anaconda3\\lib\\site-packages (from pandas>=1.4.0->geopandas) (2.8.2)\n",
      "Requirement already satisfied: pytz>=2020.1 in c:\\users\\smhrd\\anaconda3\\lib\\site-packages (from pandas>=1.4.0->geopandas) (2022.7)\n",
      "Requirement already satisfied: numpy>=1.21.0 in c:\\users\\smhrd\\anaconda3\\lib\\site-packages (from pandas>=1.4.0->geopandas) (1.24.3)\n",
      "Requirement already satisfied: colorama in c:\\users\\smhrd\\anaconda3\\lib\\site-packages (from click~=8.0->fiona>=1.8.21->geopandas) (0.4.6)\n",
      "Note: you may need to restart the kernel to use updated packages.\n"
     ]
    }
   ],
   "source": [
    "pip install geopandas"
   ]
  },
  {
   "cell_type": "code",
   "execution_count": 28,
   "id": "94dceb8c",
   "metadata": {
    "collapsed": true
   },
   "outputs": [
    {
     "name": "stdout",
     "output_type": "stream",
     "text": [
      "Collecting geopy\n",
      "  Obtaining dependency information for geopy from https://files.pythonhosted.org/packages/e1/58/9289c6a03116025cdb61461d99b2493daa4967a80b13755463d71a0affeb/geopy-2.4.0-py3-none-any.whl.metadata\n",
      "  Downloading geopy-2.4.0-py3-none-any.whl.metadata (6.8 kB)\n",
      "Collecting geographiclib<3,>=1.52 (from geopy)\n",
      "  Downloading geographiclib-2.0-py3-none-any.whl (40 kB)\n",
      "     ---------------------------------------- 0.0/40.3 kB ? eta -:--:--\n",
      "     ---------------------------------------- 40.3/40.3 kB ? eta 0:00:00\n",
      "Downloading geopy-2.4.0-py3-none-any.whl (125 kB)\n",
      "   ---------------------------------------- 0.0/125.4 kB ? eta -:--:--\n",
      "   ---------------------------------------- 125.4/125.4 kB 7.2 MB/s eta 0:00:00\n",
      "Installing collected packages: geographiclib, geopy\n",
      "Successfully installed geographiclib-2.0 geopy-2.4.0\n",
      "Note: you may need to restart the kernel to use updated packages.\n"
     ]
    }
   ],
   "source": [
    "pip install geopy"
   ]
  },
  {
   "cell_type": "code",
   "execution_count": 1,
   "id": "95b40964",
   "metadata": {},
   "outputs": [],
   "source": [
    "from geopy.geocoders import Nominatim\n",
    "import pyproj\n",
    "import geopandas as gpd\n",
    "import numpy as np\n",
    "import pandas as pd\n",
    "from tqdm import tqdm as tq"
   ]
  },
  {
   "cell_type": "code",
   "execution_count": 2,
   "id": "242177dd",
   "metadata": {},
   "outputs": [],
   "source": [
    "#도로명 주소->위도, 경도 값으로 바꿔주기\n",
    "geo_local = Nominatim(user_agent='South Korea')\n",
    "#위도 경도 반환하는 함수\n",
    "def geocoding(address):\n",
    "    try:\n",
    "        geo=geo_local.geocode(address)\n",
    "        xy=[geo.latitude, geo.longitude]\n",
    "        return xy\n",
    "    except:\n",
    "        return [0,0]"
   ]
  },
  {
   "cell_type": "code",
   "execution_count": 3,
   "id": "7e55e962",
   "metadata": {},
   "outputs": [],
   "source": [
    " # 좌표 변환 함수 정의\n",
    "def convert_coordinates(lon,lat):\n",
    "    tm_x, tm_y = transformer.transform(lat, lon)  # 주의: transform 함수는 위도 먼저 받습니다.\n",
    "    return tm_y, tm_x"
   ]
  },
  {
   "cell_type": "code",
   "execution_count": 4,
   "id": "d62e6625",
   "metadata": {
    "collapsed": true
   },
   "outputs": [
    {
     "ename": "NameError",
     "evalue": "name 'df' is not defined",
     "output_type": "error",
     "traceback": [
      "\u001b[1;31m---------------------------------------------------------------------------\u001b[0m",
      "\u001b[1;31mNameError\u001b[0m                                 Traceback (most recent call last)",
      "Cell \u001b[1;32mIn[4], line 11\u001b[0m\n\u001b[0;32m      8\u001b[0m transformer \u001b[38;5;241m=\u001b[39m pyproj\u001b[38;5;241m.\u001b[39mTransformer\u001b[38;5;241m.\u001b[39mfrom_crs(wgs84, tm_korea)\n\u001b[0;32m     10\u001b[0m \u001b[38;5;66;03m# 새로운 좌표를 계산하고 새로운 컬럼에 저장\u001b[39;00m\n\u001b[1;32m---> 11\u001b[0m df[\u001b[38;5;124m'\u001b[39m\u001b[38;5;124mx\u001b[39m\u001b[38;5;124m'\u001b[39m], df[\u001b[38;5;124m'\u001b[39m\u001b[38;5;124my\u001b[39m\u001b[38;5;124m'\u001b[39m] \u001b[38;5;241m=\u001b[39m \u001b[38;5;28mzip\u001b[39m(\u001b[38;5;241m*\u001b[39mdf\u001b[38;5;241m.\u001b[39mapply(\u001b[38;5;28;01mlambda\u001b[39;00m row: convert_coordinates(row[\u001b[38;5;124m'\u001b[39m\u001b[38;5;124m경도\u001b[39m\u001b[38;5;124m'\u001b[39m], row[\u001b[38;5;124m'\u001b[39m\u001b[38;5;124m위도\u001b[39m\u001b[38;5;124m'\u001b[39m]), axis\u001b[38;5;241m=\u001b[39m\u001b[38;5;241m1\u001b[39m))\n",
      "\u001b[1;31mNameError\u001b[0m: name 'df' is not defined"
     ]
    }
   ],
   "source": [
    "# 프로젝션 정의\n",
    "# 원래 좌표계 (WGS84)\n",
    "wgs84 = pyproj.CRS('epsg:4326')\n",
    "# 변환하려는 좌표계 (TM Korea , epsg:5178(새주소지도에서 사용), epsg:5179(네이버지도에서 사용))\n",
    "tm_korea = pyproj.CRS('epsg:5178')\n",
    "\n",
    "# Transformer 생성\n",
    "transformer = pyproj.Transformer.from_crs(wgs84, tm_korea)\n",
    " \n",
    "# 새로운 좌표를 계산하고 새로운 컬럼에 저장\n",
    "df['x'], df['y'] = zip(*df.apply(lambda row: convert_coordinates(row['경도'], row['위도']), axis=1))"
   ]
  },
  {
   "cell_type": "code",
   "execution_count": 47,
   "id": "03ef0157",
   "metadata": {},
   "outputs": [],
   "source": []
  },
  {
   "cell_type": "code",
   "execution_count": 9,
   "id": "1879c932",
   "metadata": {
    "collapsed": true
   },
   "outputs": [
    {
     "data": {
      "text/html": [
       "<div>\n",
       "<style scoped>\n",
       "    .dataframe tbody tr th:only-of-type {\n",
       "        vertical-align: middle;\n",
       "    }\n",
       "\n",
       "    .dataframe tbody tr th {\n",
       "        vertical-align: top;\n",
       "    }\n",
       "\n",
       "    .dataframe thead th {\n",
       "        text-align: right;\n",
       "    }\n",
       "</style>\n",
       "<table border=\"1\" class=\"dataframe\">\n",
       "  <thead>\n",
       "    <tr style=\"text-align: right;\">\n",
       "      <th></th>\n",
       "      <th>연번</th>\n",
       "      <th>시도청</th>\n",
       "      <th>경찰서</th>\n",
       "      <th>관서명</th>\n",
       "      <th>구분</th>\n",
       "      <th>전화번호</th>\n",
       "      <th>주소</th>\n",
       "    </tr>\n",
       "  </thead>\n",
       "  <tbody>\n",
       "    <tr>\n",
       "      <th>238</th>\n",
       "      <td>239</td>\n",
       "      <td>서울청</td>\n",
       "      <td>서울수서</td>\n",
       "      <td>대치</td>\n",
       "      <td>지구대</td>\n",
       "      <td>02-538-1312</td>\n",
       "      <td>서울특별시 강남구  삼성로 203</td>\n",
       "    </tr>\n",
       "    <tr>\n",
       "      <th>239</th>\n",
       "      <td>240</td>\n",
       "      <td>서울청</td>\n",
       "      <td>서울수서</td>\n",
       "      <td>수서</td>\n",
       "      <td>파출소</td>\n",
       "      <td>02-445-0112</td>\n",
       "      <td>서울특별시 강남구  밤고개로1길 48</td>\n",
       "    </tr>\n",
       "    <tr>\n",
       "      <th>240</th>\n",
       "      <td>241</td>\n",
       "      <td>서울청</td>\n",
       "      <td>서울수서</td>\n",
       "      <td>대왕</td>\n",
       "      <td>파출소</td>\n",
       "      <td>02-3411-0323</td>\n",
       "      <td>서울특별시 강남구  헌릉로 623</td>\n",
       "    </tr>\n",
       "    <tr>\n",
       "      <th>241</th>\n",
       "      <td>242</td>\n",
       "      <td>서울청</td>\n",
       "      <td>서울수서</td>\n",
       "      <td>일원</td>\n",
       "      <td>지구대</td>\n",
       "      <td>02-3411-0112</td>\n",
       "      <td>서울특별시 강남구  일원로3길 35</td>\n",
       "    </tr>\n",
       "    <tr>\n",
       "      <th>242</th>\n",
       "      <td>243</td>\n",
       "      <td>서울청</td>\n",
       "      <td>서울수서</td>\n",
       "      <td>개포</td>\n",
       "      <td>지구대</td>\n",
       "      <td>02-571-0112</td>\n",
       "      <td>서울특별시 강남구  개포로 261</td>\n",
       "    </tr>\n",
       "  </tbody>\n",
       "</table>\n",
       "</div>"
      ],
      "text/plain": [
       "      연번  시도청   경찰서 관서명   구분          전화번호                    주소\n",
       "238  239  서울청  서울수서  대치  지구대   02-538-1312    서울특별시 강남구  삼성로 203\n",
       "239  240  서울청  서울수서  수서  파출소   02-445-0112  서울특별시 강남구  밤고개로1길 48\n",
       "240  241  서울청  서울수서  대왕  파출소  02-3411-0323    서울특별시 강남구  헌릉로 623\n",
       "241  242  서울청  서울수서  일원  지구대  02-3411-0112   서울특별시 강남구  일원로3길 35\n",
       "242  243  서울청  서울수서  개포  지구대   02-571-0112    서울특별시 강남구  개포로 261"
      ]
     },
     "execution_count": 9,
     "metadata": {},
     "output_type": "execute_result"
    }
   ],
   "source": [
    "#치안센터 UTMK 변환\n",
    "s_po_xy=pd.read_csv('./data/s_po_xy.csv')\n",
    "s_po_xy.tail()\n",
    "lat=[]\n",
    "lon=[]\n",
    "for i in tq(s_po_xy['주소']):\n",
    "    lat.append(geocoding(i)[0])\n",
    "    lon.append(geocoding(i)[1])"
   ]
  },
  {
   "cell_type": "code",
   "execution_count": 42,
   "id": "13ded0b8",
   "metadata": {},
   "outputs": [],
   "source": []
  },
  {
   "cell_type": "code",
   "execution_count": 23,
   "id": "cbc0e245",
   "metadata": {
    "collapsed": true
   },
   "outputs": [
    {
     "data": {
      "text/plain": [
       "0      중랑구\n",
       "1       중구\n",
       "2      종로구\n",
       "3      은평구\n",
       "4      용산구\n",
       "5     영등포구\n",
       "6      양천구\n",
       "7      송파구\n",
       "8      성북구\n",
       "9      성동구\n",
       "10     서초구\n",
       "11    서대문구\n",
       "12     마포구\n",
       "13     동작구\n",
       "14    동대문구\n",
       "15     도봉구\n",
       "16     노원구\n",
       "17     금천구\n",
       "18     구로구\n",
       "19     광진구\n",
       "20     관악구\n",
       "21     강서구\n",
       "22     강북구\n",
       "23     강동구\n",
       "24     강남구\n",
       "Name: 자치구, dtype: object"
      ]
     },
     "execution_count": 23,
     "metadata": {},
     "output_type": "execute_result"
    }
   ],
   "source": []
  },
  {
   "cell_type": "code",
   "execution_count": 27,
   "id": "2fd02165",
   "metadata": {},
   "outputs": [
    {
     "data": {
      "text/plain": [
       "0         True\n",
       "1         True\n",
       "2         True\n",
       "3         True\n",
       "4         True\n",
       "         ...  \n",
       "20891    False\n",
       "20892    False\n",
       "20893    False\n",
       "20894    False\n",
       "20895    False\n",
       "Name: 관리기관명, Length: 20896, dtype: bool"
      ]
     },
     "execution_count": 27,
     "metadata": {},
     "output_type": "execute_result"
    }
   ],
   "source": [
    "emergency_bell=pd.read_csv('./emergency_bell.csv')\n",
    "# 프로젝션 정의\n",
    "# 원래 좌표계 (WGS84)\n",
    "wgs84 = pyproj.CRS('epsg:4326')\n",
    "# 변환하려는 좌표계 (TM Korea , epsg:5178(새주소지도에서 사용), epsg:5179(네이버지도에서 사용))\n",
    "tm_korea = pyproj.CRS('epsg:5178')\n",
    "\n",
    "# Transformer 생성\n",
    "transformer = pyproj.Transformer.from_crs(wgs84, tm_korea)\n",
    " \n",
    "# 새로운 좌표를 계산하고 새로운 컬럼에 저장\n",
    "emergency_bell['x'], emergency_bell['y'] = zip(*emergency_bell.apply(lambda row: convert_coordinates(row['경도'], row['위도']), axis=1))\n",
    "emergency_bell['관리기관명'].str.contains(gu_list[23])"
   ]
  },
  {
   "cell_type": "code",
   "execution_count": 30,
   "id": "ee9b6c2c",
   "metadata": {},
   "outputs": [
    {
     "data": {
      "text/plain": [
       "Index(['번호', '안전비상벨관리번호', '설치목적', '설치장소유형', '설치위치', '소재지도로명주소', '소재지지번주소',\n",
       "       '위도', '경도', '연계방식', '경찰연계유무', '경비업체연계유무', '관리사무소연계유무', '부가기능',\n",
       "       '안전비상벨설치년도', '최종점검일자', '최종점검결과구분', '관리기관명', '관리기관전화번호', '데이터기준일자',\n",
       "       '경찰서명', '경찰서부서명', '경찰서부서코드', '시도경찰청명', '행정동', 'x', 'y'],\n",
       "      dtype='object')"
      ]
     },
     "execution_count": 30,
     "metadata": {},
     "output_type": "execute_result"
    }
   ],
   "source": [
    "bell_example=pd.DataFrame()\n",
    "for i in range(len(gu_list)):\n",
    "    mask=emergency_bell['관리기관명'].str.contains(gu_list[i])\n",
    "    bell_example=pd.concat([bell_example,emergency_bell[mask].reset_index(drop=True)[0:100]])\n",
    "bell_example[['x', 'y']]"
   ]
  },
  {
   "cell_type": "code",
   "execution_count": 5,
   "id": "60bccc1e",
   "metadata": {},
   "outputs": [],
   "source": [
    "cctv=pd.read_csv('./seoul_cctv.csv',encoding='CP949')\n",
    "\n",
    "# 원래 좌표계 (WGS84)\n",
    "wgs84 = pyproj.CRS('epsg:4326')\n",
    "# 변환하려는 좌표계 (TM Korea , epsg:5178(새주소지도에서 사용), epsg:5179(네이버지도에서 사용))\n",
    "tm_korea = pyproj.CRS('epsg:5178')\n",
    "\n",
    "# Transformer 생성\n",
    "transformer = pyproj.Transformer.from_crs(wgs84, tm_korea)\n",
    " \n",
    "# 새로운 좌표를 계산하고 새로운 컬럼에 저장\n",
    "cctv['x'], cctv['y'] = zip(*cctv.apply(lambda row: convert_coordinates(row['경도'], row['위도']), axis=1))\n"
   ]
  },
  {
   "cell_type": "code",
   "execution_count": 9,
   "id": "cec89e6f",
   "metadata": {},
   "outputs": [],
   "source": [
    "cctv=cctv.drop_duplicates(subset=['x'])"
   ]
  },
  {
   "cell_type": "code",
   "execution_count": 11,
   "id": "0d340778",
   "metadata": {},
   "outputs": [
    {
     "data": {
      "text/html": [
       "<div>\n",
       "<style scoped>\n",
       "    .dataframe tbody tr th:only-of-type {\n",
       "        vertical-align: middle;\n",
       "    }\n",
       "\n",
       "    .dataframe tbody tr th {\n",
       "        vertical-align: top;\n",
       "    }\n",
       "\n",
       "    .dataframe thead th {\n",
       "        text-align: right;\n",
       "    }\n",
       "</style>\n",
       "<table border=\"1\" class=\"dataframe\">\n",
       "  <thead>\n",
       "    <tr style=\"text-align: right;\">\n",
       "      <th></th>\n",
       "      <th>자치구</th>\n",
       "      <th>안심 주소</th>\n",
       "      <th>위도</th>\n",
       "      <th>경도</th>\n",
       "      <th>CCTV 수량</th>\n",
       "      <th>수정 일시</th>\n",
       "      <th>x</th>\n",
       "      <th>y</th>\n",
       "    </tr>\n",
       "  </thead>\n",
       "  <tbody>\n",
       "    <tr>\n",
       "      <th>0</th>\n",
       "      <td>중랑구</td>\n",
       "      <td>중화2동 307-1(제일프라자앞)_G-JN00-0007</td>\n",
       "      <td>37.6048</td>\n",
       "      <td>127.0773</td>\n",
       "      <td>1</td>\n",
       "      <td>2022-12-01</td>\n",
       "      <td>962878.984864</td>\n",
       "      <td>1.955931e+06</td>\n",
       "    </tr>\n",
       "    <tr>\n",
       "      <th>1</th>\n",
       "      <td>중랑구</td>\n",
       "      <td>신내1동 817-49(고정2)_C-SN01-0026-B</td>\n",
       "      <td>37.6166</td>\n",
       "      <td>127.1090</td>\n",
       "      <td>1</td>\n",
       "      <td>2022-12-01</td>\n",
       "      <td>965682.503313</td>\n",
       "      <td>1.957228e+06</td>\n",
       "    </tr>\n",
       "    <tr>\n",
       "      <th>2</th>\n",
       "      <td>중랑구</td>\n",
       "      <td>중화2동 307-1(제일프라자앞사거리)_C-JH02-0061</td>\n",
       "      <td>37.6051</td>\n",
       "      <td>127.0772</td>\n",
       "      <td>1</td>\n",
       "      <td>2022-12-01</td>\n",
       "      <td>962870.307474</td>\n",
       "      <td>1.955965e+06</td>\n",
       "    </tr>\n",
       "    <tr>\n",
       "      <th>3</th>\n",
       "      <td>중랑구</td>\n",
       "      <td>신내1동 817 (새솔초교 앞 사거리)_C-SN01-0036</td>\n",
       "      <td>37.6172</td>\n",
       "      <td>127.1090</td>\n",
       "      <td>1</td>\n",
       "      <td>2022-12-01</td>\n",
       "      <td>965682.779609</td>\n",
       "      <td>1.957295e+06</td>\n",
       "    </tr>\n",
       "    <tr>\n",
       "      <th>4</th>\n",
       "      <td>중랑구</td>\n",
       "      <td>중화2동 307-4 (제일플라자뒤)_C-JH02-0005</td>\n",
       "      <td>37.6044</td>\n",
       "      <td>127.0781</td>\n",
       "      <td>1</td>\n",
       "      <td>2022-12-01</td>\n",
       "      <td>962949.400293</td>\n",
       "      <td>1.955887e+06</td>\n",
       "    </tr>\n",
       "  </tbody>\n",
       "</table>\n",
       "</div>"
      ],
      "text/plain": [
       "   자치구                              안심 주소       위도        경도  CCTV 수량  \\\n",
       "0  중랑구     중화2동 307-1(제일프라자앞)_G-JN00-0007  37.6048  127.0773        1   \n",
       "1  중랑구     신내1동 817-49(고정2)_C-SN01-0026-B  37.6166  127.1090        1   \n",
       "2  중랑구  중화2동 307-1(제일프라자앞사거리)_C-JH02-0061  37.6051  127.0772        1   \n",
       "3  중랑구  신내1동 817 (새솔초교 앞 사거리)_C-SN01-0036  37.6172  127.1090        1   \n",
       "4  중랑구    중화2동 307-4 (제일플라자뒤)_C-JH02-0005  37.6044  127.0781        1   \n",
       "\n",
       "        수정 일시              x             y  \n",
       "0  2022-12-01  962878.984864  1.955931e+06  \n",
       "1  2022-12-01  965682.503313  1.957228e+06  \n",
       "2  2022-12-01  962870.307474  1.955965e+06  \n",
       "3  2022-12-01  965682.779609  1.957295e+06  \n",
       "4  2022-12-01  962949.400293  1.955887e+06  "
      ]
     },
     "execution_count": 11,
     "metadata": {},
     "output_type": "execute_result"
    }
   ],
   "source": [
    "cctv.head()"
   ]
  },
  {
   "cell_type": "code",
   "execution_count": 26,
   "id": "49f68424",
   "metadata": {},
   "outputs": [
    {
     "data": {
      "text/html": [
       "<div>\n",
       "<style scoped>\n",
       "    .dataframe tbody tr th:only-of-type {\n",
       "        vertical-align: middle;\n",
       "    }\n",
       "\n",
       "    .dataframe tbody tr th {\n",
       "        vertical-align: top;\n",
       "    }\n",
       "\n",
       "    .dataframe thead th {\n",
       "        text-align: right;\n",
       "    }\n",
       "</style>\n",
       "<table border=\"1\" class=\"dataframe\">\n",
       "  <thead>\n",
       "    <tr style=\"text-align: right;\">\n",
       "      <th></th>\n",
       "      <th>자치구</th>\n",
       "      <th>안심 주소</th>\n",
       "      <th>위도</th>\n",
       "      <th>경도</th>\n",
       "      <th>CCTV 수량</th>\n",
       "      <th>수정 일시</th>\n",
       "      <th>x</th>\n",
       "      <th>y</th>\n",
       "    </tr>\n",
       "  </thead>\n",
       "  <tbody>\n",
       "    <tr>\n",
       "      <th>0</th>\n",
       "      <td>중랑구</td>\n",
       "      <td>중화2동 307-1(제일프라자앞)_G-JN00-0007</td>\n",
       "      <td>37.6048</td>\n",
       "      <td>127.0773</td>\n",
       "      <td>1</td>\n",
       "      <td>2022-12-01</td>\n",
       "      <td>962878.984864</td>\n",
       "      <td>1.955931e+06</td>\n",
       "    </tr>\n",
       "    <tr>\n",
       "      <th>1</th>\n",
       "      <td>중랑구</td>\n",
       "      <td>신내1동 817-49(고정2)_C-SN01-0026-B</td>\n",
       "      <td>37.6166</td>\n",
       "      <td>127.1090</td>\n",
       "      <td>1</td>\n",
       "      <td>2022-12-01</td>\n",
       "      <td>965682.503313</td>\n",
       "      <td>1.957228e+06</td>\n",
       "    </tr>\n",
       "    <tr>\n",
       "      <th>2</th>\n",
       "      <td>중랑구</td>\n",
       "      <td>중화2동 307-1(제일프라자앞사거리)_C-JH02-0061</td>\n",
       "      <td>37.6051</td>\n",
       "      <td>127.0772</td>\n",
       "      <td>1</td>\n",
       "      <td>2022-12-01</td>\n",
       "      <td>962870.307474</td>\n",
       "      <td>1.955965e+06</td>\n",
       "    </tr>\n",
       "  </tbody>\n",
       "</table>\n",
       "</div>"
      ],
      "text/plain": [
       "   자치구                              안심 주소       위도        경도  CCTV 수량  \\\n",
       "0  중랑구     중화2동 307-1(제일프라자앞)_G-JN00-0007  37.6048  127.0773        1   \n",
       "1  중랑구     신내1동 817-49(고정2)_C-SN01-0026-B  37.6166  127.1090        1   \n",
       "2  중랑구  중화2동 307-1(제일프라자앞사거리)_C-JH02-0061  37.6051  127.0772        1   \n",
       "\n",
       "        수정 일시              x             y  \n",
       "0  2022-12-01  962878.984864  1.955931e+06  \n",
       "1  2022-12-01  965682.503313  1.957228e+06  \n",
       "2  2022-12-01  962870.307474  1.955965e+06  "
      ]
     },
     "execution_count": 26,
     "metadata": {},
     "output_type": "execute_result"
    }
   ],
   "source": [
    "gu_list=cctv['자치구'].drop_duplicates()\n",
    "gu_list=gu_list.reset_index(drop=True)\n",
    "\n",
    "cctv_example=pd.DataFrame()\n",
    "for i in range(len(gu_list)):\n",
    "    mask=cctv['자치구']==gu_list[i]\n",
    "    cctv_example=pd.concat([cctv_example,cctv[mask].reset_index(drop=True)[0:100]])\n",
    "cctv_example.head(3)"
   ]
  },
  {
   "cell_type": "code",
   "execution_count": 16,
   "id": "2f8738f5",
   "metadata": {
    "collapsed": true
   },
   "outputs": [
    {
     "data": {
      "text/html": [
       "<div>\n",
       "<style scoped>\n",
       "    .dataframe tbody tr th:only-of-type {\n",
       "        vertical-align: middle;\n",
       "    }\n",
       "\n",
       "    .dataframe tbody tr th {\n",
       "        vertical-align: top;\n",
       "    }\n",
       "\n",
       "    .dataframe thead th {\n",
       "        text-align: right;\n",
       "    }\n",
       "</style>\n",
       "<table border=\"1\" class=\"dataframe\">\n",
       "  <thead>\n",
       "    <tr style=\"text-align: right;\">\n",
       "      <th></th>\n",
       "      <th>x</th>\n",
       "      <th>y</th>\n",
       "    </tr>\n",
       "  </thead>\n",
       "  <tbody>\n",
       "    <tr>\n",
       "      <th>0</th>\n",
       "      <td>962878.984864</td>\n",
       "      <td>1.955931e+06</td>\n",
       "    </tr>\n",
       "    <tr>\n",
       "      <th>1</th>\n",
       "      <td>965682.503313</td>\n",
       "      <td>1.957228e+06</td>\n",
       "    </tr>\n",
       "    <tr>\n",
       "      <th>2</th>\n",
       "      <td>962870.307474</td>\n",
       "      <td>1.955965e+06</td>\n",
       "    </tr>\n",
       "    <tr>\n",
       "      <th>3</th>\n",
       "      <td>965682.779609</td>\n",
       "      <td>1.957295e+06</td>\n",
       "    </tr>\n",
       "    <tr>\n",
       "      <th>4</th>\n",
       "      <td>962949.400293</td>\n",
       "      <td>1.955887e+06</td>\n",
       "    </tr>\n",
       "    <tr>\n",
       "      <th>...</th>\n",
       "      <td>...</td>\n",
       "      <td>...</td>\n",
       "    </tr>\n",
       "    <tr>\n",
       "      <th>95</th>\n",
       "      <td>958234.629272</td>\n",
       "      <td>1.946900e+06</td>\n",
       "    </tr>\n",
       "    <tr>\n",
       "      <th>96</th>\n",
       "      <td>957970.098484</td>\n",
       "      <td>1.947012e+06</td>\n",
       "    </tr>\n",
       "    <tr>\n",
       "      <th>97</th>\n",
       "      <td>961554.861074</td>\n",
       "      <td>1.944487e+06</td>\n",
       "    </tr>\n",
       "    <tr>\n",
       "      <th>98</th>\n",
       "      <td>961590.319530</td>\n",
       "      <td>1.944510e+06</td>\n",
       "    </tr>\n",
       "    <tr>\n",
       "      <th>99</th>\n",
       "      <td>958509.834132</td>\n",
       "      <td>1.947154e+06</td>\n",
       "    </tr>\n",
       "  </tbody>\n",
       "</table>\n",
       "<p>2500 rows × 2 columns</p>\n",
       "</div>"
      ],
      "text/plain": [
       "                x             y\n",
       "0   962878.984864  1.955931e+06\n",
       "1   965682.503313  1.957228e+06\n",
       "2   962870.307474  1.955965e+06\n",
       "3   965682.779609  1.957295e+06\n",
       "4   962949.400293  1.955887e+06\n",
       "..            ...           ...\n",
       "95  958234.629272  1.946900e+06\n",
       "96  957970.098484  1.947012e+06\n",
       "97  961554.861074  1.944487e+06\n",
       "98  961590.319530  1.944510e+06\n",
       "99  958509.834132  1.947154e+06\n",
       "\n",
       "[2500 rows x 2 columns]"
      ]
     },
     "execution_count": 16,
     "metadata": {},
     "output_type": "execute_result"
    }
   ],
   "source": [
    "cctv_example_utmk=cctv_example[['x', 'y']]\n",
    "cctv_example_utmk.to_csv('cctv_example_utmk.csv',index=False)"
   ]
  },
  {
   "cell_type": "code",
   "execution_count": 17,
   "id": "eb6bf39f",
   "metadata": {},
   "outputs": [],
   "source": [
    "bell_example_utmk=bell_example[['x', 'y']]\n",
    "bell_example_utmk.to_csv('bell_example_utmk.csv',index=False)"
   ]
  },
  {
   "cell_type": "code",
   "execution_count": 32,
   "id": "6f9d9620",
   "metadata": {},
   "outputs": [],
   "source": []
  },
  {
   "cell_type": "code",
   "execution_count": null,
   "id": "2d896304",
   "metadata": {},
   "outputs": [],
   "source": []
  },
  {
   "cell_type": "code",
   "execution_count": null,
   "id": "43f18d74",
   "metadata": {},
   "outputs": [],
   "source": []
  },
  {
   "cell_type": "code",
   "execution_count": null,
   "id": "860f58d0",
   "metadata": {},
   "outputs": [],
   "source": []
  },
  {
   "cell_type": "code",
   "execution_count": null,
   "id": "74afe1c0",
   "metadata": {},
   "outputs": [],
   "source": []
  },
  {
   "cell_type": "code",
   "execution_count": null,
   "id": "73d2a44c",
   "metadata": {},
   "outputs": [],
   "source": []
  },
  {
   "cell_type": "code",
   "execution_count": null,
   "id": "722b78f3",
   "metadata": {},
   "outputs": [],
   "source": []
  },
  {
   "cell_type": "code",
   "execution_count": null,
   "id": "75ce317d",
   "metadata": {},
   "outputs": [],
   "source": []
  }
 ],
 "metadata": {
  "kernelspec": {
   "display_name": "Python 3 (ipykernel)",
   "language": "python",
   "name": "python3"
  },
  "language_info": {
   "codemirror_mode": {
    "name": "ipython",
    "version": 3
   },
   "file_extension": ".py",
   "mimetype": "text/x-python",
   "name": "python",
   "nbconvert_exporter": "python",
   "pygments_lexer": "ipython3",
   "version": "3.11.4"
  }
 },
 "nbformat": 4,
 "nbformat_minor": 5
}
